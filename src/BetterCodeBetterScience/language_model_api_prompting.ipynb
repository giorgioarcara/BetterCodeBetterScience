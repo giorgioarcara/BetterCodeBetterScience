{
 "cells": [
  {
   "cell_type": "markdown",
   "id": "4157e206",
   "metadata": {},
   "source": [
    "In this notebook we will show a simple example of language model prompting using API calls."
   ]
  },
  {
   "cell_type": "code",
   "execution_count": 1,
   "id": "7d14b350",
   "metadata": {},
   "outputs": [],
   "source": [
    "# Import required libraries\n",
    "import anthropic\n",
    "import os\n",
    "\n",
    "# Set up the API client\n",
    "# Make sure to set your API key as an environment variable: ANTHROPIC_API_KEY\n",
    "client = anthropic.Anthropic(\n",
    "    api_key=os.getenv(\"ANTHROPIC\")\n",
    ")\n"
   ]
  },
  {
   "cell_type": "markdown",
   "id": "89c8338e",
   "metadata": {},
   "source": [
    "### Simple walk-through"
   ]
  },
  {
   "cell_type": "code",
   "execution_count": 2,
   "id": "04a1ff49",
   "metadata": {},
   "outputs": [
    {
     "data": {
      "text/plain": [
       "Message(id='msg_017zRJf5pnmqdKLqLuryrFbL', content=[TextBlock(citations=None, text='The capital of France is Paris.', type='text')], model='claude-3-5-haiku-20241022', role='assistant', stop_reason='end_turn', stop_sequence=None, type='message', usage=Usage(cache_creation_input_tokens=0, cache_read_input_tokens=0, input_tokens=14, output_tokens=10, server_tool_use=None, service_tier='standard'))"
      ]
     },
     "execution_count": 2,
     "metadata": {},
     "output_type": "execute_result"
    }
   ],
   "source": [
    "model = \"claude-3-5-haiku-latest\"\n",
    "max_tokens = 1000 \n",
    "prompt = \"What is the capital of France?\"\n",
    "\n",
    "message = client.messages.create(\n",
    "    model=model,\n",
    "    max_tokens=max_tokens,\n",
    "    messages=[\n",
    "        {\"role\": \"user\", \"content\": prompt}\n",
    "    ]\n",
    ")\n",
    "\n",
    "message"
   ]
  },
  {
   "cell_type": "code",
   "execution_count": 3,
   "id": "c81a21a8",
   "metadata": {},
   "outputs": [
    {
     "data": {
      "text/plain": [
       "'The capital of France is Paris.'"
      ]
     },
     "execution_count": 3,
     "metadata": {},
     "output_type": "execute_result"
    }
   ],
   "source": [
    "message.content[0].text"
   ]
  },
  {
   "cell_type": "markdown",
   "id": "5dffe58e",
   "metadata": {},
   "source": [
    "Have the API return the result as a JSON object, containing only the name of the capital.  First let's create a function to submit prompts to claude, in order to simplify our interactions:"
   ]
  },
  {
   "cell_type": "code",
   "execution_count": 3,
   "id": "3aec8c5f",
   "metadata": {},
   "outputs": [
    {
     "data": {
      "text/plain": [
       "'{\\n    \"capital\": \"Paris\",\\n    \"country\": \"France\"\\n}'"
      ]
     },
     "execution_count": 3,
     "metadata": {},
     "output_type": "execute_result"
    }
   ],
   "source": [
    "from BetterCodeBetterScience.llm_utils import send_prompt_to_claude\n",
    "\n",
    "json_prompt = \"\"\"\n",
    "What is the capital of France? \n",
    "\n",
    "Please return your response as a JSON object with the following structure:\n",
    "{\n",
    "    \"capital\": \"city_name\",\n",
    "    \"country\": \"country_name\"\n",
    "}\n",
    "\"\"\"\n",
    "\n",
    "result = send_prompt_to_claude(json_prompt, client)\n",
    "result"
   ]
  },
  {
   "cell_type": "code",
   "execution_count": 4,
   "id": "158f4eb7",
   "metadata": {},
   "outputs": [
    {
     "data": {
      "text/plain": [
       "{'capital': 'Paris', 'country': 'France'}"
      ]
     },
     "execution_count": 4,
     "metadata": {},
     "output_type": "execute_result"
    }
   ],
   "source": [
    "import json\n",
    "\n",
    "result_dict = json.loads(result)\n",
    "result_dict"
   ]
  },
  {
   "cell_type": "code",
   "execution_count": 5,
   "id": "86e6bee8",
   "metadata": {},
   "outputs": [
    {
     "name": "stdout",
     "output_type": "stream",
     "text": [
      "{'capital': 'Paris', 'country': 'France'}\n",
      "{'capital': 'Berlin', 'country': 'Germany'}\n",
      "{'capital': 'Madrid', 'country': 'Spain'}\n",
      "{'capital': 'Rome', 'country': 'Italy'}\n",
      "{'capital': 'Lisbon', 'country': 'Portugal'}\n",
      "{'capital': 'Amsterdam', 'country': 'Netherlands'}\n",
      "{'capital': 'Brussels', 'country': 'Belgium'}\n",
      "{'capital': 'Stockholm', 'country': 'Sweden'}\n",
      "{'capital': 'Oslo', 'country': 'Norway'}\n",
      "{'capital': 'Helsinki', 'country': 'Finland'}\n"
     ]
    }
   ],
   "source": [
    "# Run on multiple countries\n",
    "\n",
    "countries = [\"France\", \"Germany\", \"Spain\", \"Italy\", \"Portugal\", \"Netherlands\", \"Belgium\", \"Sweden\", \"Norway\", \"Finland\"]\n",
    "\n",
    "ntokens_loop = 0\n",
    "for country in countries:\n",
    "    json_prompt = f\"\"\"\n",
    "    What is the capital of {country}? \n",
    "\n",
    "    Please return your response as a JSON object with the following structure:\n",
    "    {{\n",
    "        \"capital\": \"city_name\",\n",
    "        \"country\": \"country_name\"\n",
    "    }}\n",
    "    \"\"\"\n",
    "\n",
    "\n",
    "    result, ntokens_prompt = send_prompt_to_claude(json_prompt, client, return_tokens=True)\n",
    "    ntokens_loop += ntokens_prompt\n",
    "    result_dict = json.loads(result)\n",
    "    print(result_dict)\n"
   ]
  },
  {
   "cell_type": "code",
   "execution_count": 12,
   "id": "7a7c4ba1",
   "metadata": {},
   "outputs": [],
   "source": [
    "json_prompt_all = f\"\"\"\n",
    "Here is a list of countries:\n",
    "{', '.join(countries)}\n",
    "\n",
    "For each country, please provide the capital city in a \n",
    "JSON object with the country name as the key and the \n",
    "capital city as the value.  \n",
    "\n",
    "IMPORTANT: Return only the JSON object without any additional text.\n",
    "\"\"\"\n",
    "result_all, ntokens_prompt = send_prompt_to_claude(json_prompt_all, client, return_tokens=True)\n"
   ]
  },
  {
   "cell_type": "code",
   "execution_count": 13,
   "id": "fb05b58b",
   "metadata": {},
   "outputs": [
    {
     "data": {
      "text/plain": [
       "'{\\n    \"France\": \"Paris\",\\n    \"Germany\": \"Berlin\",\\n    \"Spain\": \"Madrid\",\\n    \"Italy\": \"Rome\",\\n    \"Portugal\": \"Lisbon\",\\n    \"Netherlands\": \"Amsterdam\",\\n    \"Belgium\": \"Brussels\",\\n    \"Sweden\": \"Stockholm\",\\n    \"Norway\": \"Oslo\",\\n    \"Finland\": \"Helsinki\"\\n}'"
      ]
     },
     "execution_count": 13,
     "metadata": {},
     "output_type": "execute_result"
    }
   ],
   "source": [
    "result_all"
   ]
  },
  {
   "cell_type": "code",
   "execution_count": 16,
   "id": "89ae0d28",
   "metadata": {},
   "outputs": [
    {
     "name": "stdout",
     "output_type": "stream",
     "text": [
      "172\n",
      "832\n"
     ]
    }
   ],
   "source": [
    "print(ntokens_prompt)\n",
    "print(ntokens_loop)"
   ]
  }
 ],
 "metadata": {
  "kernelspec": {
   "display_name": "BetterCodeBetterScience",
   "language": "python",
   "name": "python3"
  },
  "language_info": {
   "codemirror_mode": {
    "name": "ipython",
    "version": 3
   },
   "file_extension": ".py",
   "mimetype": "text/x-python",
   "name": "python",
   "nbconvert_exporter": "python",
   "pygments_lexer": "ipython3",
   "version": "3.12.0"
  }
 },
 "nbformat": 4,
 "nbformat_minor": 5
}
