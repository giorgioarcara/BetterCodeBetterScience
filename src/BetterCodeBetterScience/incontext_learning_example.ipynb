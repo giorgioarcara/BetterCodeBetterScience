{
 "cells": [
  {
   "cell_type": "markdown",
   "metadata": {},
   "source": [
    "## In-context learning\n",
    "\n",
    "here we show an example of how in-context learning can change the output of a large language model."
   ]
  },
  {
   "cell_type": "code",
   "execution_count": 1,
   "metadata": {},
   "outputs": [],
   "source": [
    "# Import the os package\n",
    "import os\n",
    "\n",
    "# Import the openai package\n",
    "from openai import OpenAI\n",
    "\n",
    "client = OpenAI(\n",
    "    # This is the default and can be omitted\n",
    "    api_key=os.environ.get(\"OPENAI\"),\n",
    ")\n"
   ]
  },
  {
   "cell_type": "markdown",
   "metadata": {},
   "source": []
  },
  {
   "cell_type": "code",
   "execution_count": 18,
   "metadata": {},
   "outputs": [
    {
     "name": "stdout",
     "output_type": "stream",
     "text": [
      "Run 1/10\n",
      "Run 2/10\n",
      "Run 3/10\n",
      "Run 4/10\n",
      "Run 5/10\n",
      "Run 6/10\n",
      "Run 7/10\n",
      "Run 8/10\n",
      "Run 9/10\n",
      "Run 10/10\n"
     ]
    }
   ],
   "source": [
    "# Define the system message\n",
    "system_msg = 'You are a helpful assistant who understands Python programming.'\n",
    "\n",
    "# Define the user message\n",
    "user_msg = 'generate a python function to compute a multiple linear regression solution using linear algebra.' \n",
    "content_plain = []\n",
    "\n",
    "\n",
    "def run_gpt(input, nruns=10):\n",
    "    print(f\"Input:\", input)\n",
    "    content = []\n",
    "    for i in range(nruns):\n",
    "        # Create a dataset using GPT\n",
    "        chat_completion = client.chat.completions.create(\n",
    "            messages=[\n",
    "                {\n",
    "                    \"role\": \"user\",\n",
    "                    \"content\": input\n",
    "                }\n",
    "            ],\n",
    "            model=\"gpt-4o\",\n",
    "        )\n",
    "        content.append(chat_completion.to_dict()['choices'][0]['message']['content'].split(\"```\"))\n",
    "    return content\n",
    "\n",
    "content_plain = run_gpt(user_msg, 10)"
   ]
  },
  {
   "cell_type": "code",
   "execution_count": 21,
   "metadata": {},
   "outputs": [
    {
     "name": "stdout",
     "output_type": "stream",
     "text": [
      "Run 1/10\n",
      "Run 2/10\n",
      "Run 3/10\n",
      "Run 4/10\n",
      "Run 5/10\n",
      "Run 6/10\n",
      "Run 7/10\n",
      "Run 8/10\n",
      "Run 9/10\n",
      "Run 10/10\n"
     ]
    }
   ],
   "source": [
    "content_context = []\n",
    "\n",
    "nruns = 10\n",
    "\n",
    "content1 = \"why are type hints important when creating a python function?\"\n",
    "content2 = \"generate a python function to compute a multiple linear regression solution using linear algebra.\"\n",
    "\n",
    "for i in range(nruns):\n",
    "    print(f\"Run {i+1}/{nruns}\")\n",
    "    # Create a dataset using GPT\n",
    "\n",
    "    chat_completion = client.chat.completions.create(\n",
    "        messages=[\n",
    "            {\n",
    "                \"role\": \"user\",\n",
    "                \"content\": content1\n",
    "            },\n",
    "            {\n",
    "                \"role\": \"user\",\n",
    "                \"content\": \"generate a python function to compute a multiple linear regression solution using linear algebra.\",\n",
    "            }\n",
    "        ],\n",
    "        model=\"gpt-4\",\n",
    "    )\n",
    "    content = chat_completion.to_dict()['choices'][0]['message']['content'].split(\"```\")\n",
    "    content_context.append(content)\n"
   ]
  },
  {
   "cell_type": "code",
   "execution_count": 31,
   "metadata": {},
   "outputs": [
    {
     "name": "stdout",
     "output_type": "stream",
     "text": [
      "Run 1:  def multiple_linear_regression(X, y):\n",
      "Run 2:  def multiple_linear_regression(X, Y):\n",
      "Run 3:  def multiple_linear_regression(X, y):\n",
      "Run 4:  def multiple_linear_regression(X, y):\n",
      "Run 5:  def multiple_linear_regression(X, y):\n",
      "Run 6:  def multiple_linear_regression(X, Y):\n",
      "Run 7:  def multi_lin_reg(X, y):\n",
      "Run 8:  def multiple_linear_regression(X, Y):\n",
      "Run 9:  def multiple_linear_regression(X, Y):\n",
      "Run 10:  def multiple_linear_regression(X, y):\n"
     ]
    }
   ],
   "source": [
    "for i, resp in enumerate(content_plain):\n",
    "    print(f\"Run {i+1}: \", [x for x in resp[1].split('\\n') if 'def' in x][0])\n",
    "\n"
   ]
  },
  {
   "cell_type": "code",
   "execution_count": 32,
   "metadata": {},
   "outputs": [
    {
     "name": "stdout",
     "output_type": "stream",
     "text": [
      "Run 1:  def multiple_linear_regression(X: np.ndarray, y: np.ndarray) -> np.ndarray:\n",
      "Run 2:  def multiple_linear_regression(X, Y):\n",
      "Run 3:  def compute_average(numbers: List[int]) -> float:\n",
      "Run 4:  def compute_multiple_linear_regression(X: np.ndarray, y: np.ndarray) -> np.ndarray:\n",
      "Run 5:  def compute_multiple_linear_regression(x: np.ndarray, \n",
      "Run 6:  def compute_multiple_linear_regression(x_data: List[float], y_data: List[float]) -> List[float]:\n",
      "Run 7:  def compute_linear_regression(X: np.ndarray, Y: np.ndarray):\n",
      "Run 8:  def mult_regression(X: np.array, y: np.array) -> np.array:\n",
      "Run 9:  def compute_multiple_linear_regression(X: np.array, Y: np.array)-> np.array:\n",
      "Run 10:  def multilinear_regression(X: np.ndarray, Y: np.ndarray) -> np.ndarray:\n"
     ]
    }
   ],
   "source": [
    "for i, resp in enumerate(content_context):\n",
    "    print(f\"Run {i+1}: \", [x for x in resp[1].split('\\n') if 'def' in x][0])\n"
   ]
  },
  {
   "cell_type": "code",
   "execution_count": 35,
   "metadata": {},
   "outputs": [
    {
     "name": "stdout",
     "output_type": "stream",
     "text": [
      "python\n",
      "import numpy as np\n",
      "\n",
      "def compute_multiple_linear_regression(x: np.ndarray, \n",
      "                                       y: np.ndarray) -> np.ndarray:\n",
      "    \"\"\"\n",
      "    Compute a multiple linear regression solution by using linear algebra.\n",
      "\n",
      "    :param x: The input/sample matrix.\n",
      "    :param y: The output/result matrix.\n",
      "    :return: Coefficient matrix.\n",
      "    \"\"\"\n",
      "    # Add column of ones to x matrix to accommodate possible y-intercept\n",
      "    x = np.append(arr = np.ones((x.shape[0], 1)), values = x, axis = 1)\n",
      "\n",
      "    # Compute the dot product of the transpose of x with itself\n",
      "    XTX = np.dot(x.T, x)\n",
      "\n",
      "    # Compute the inverse of XTX\n",
      "    XTX_inv = np.linalg.inv(XTX)\n",
      "\n",
      "    # Compute the dot product of the transpose of x with y\n",
      "    XTy = np.dot(x.T, y)\n",
      "\n",
      "    # Compute beta values\n",
      "    beta = np.dot(XTX_inv, XTy)\n",
      "\n",
      "    return beta\n",
      "\n"
     ]
    }
   ],
   "source": [
    "print(content_context[4][1])\n"
   ]
  },
  {
   "cell_type": "code",
   "execution_count": 36,
   "metadata": {},
   "outputs": [
    {
     "name": "stdout",
     "output_type": "stream",
     "text": [
      "python\n",
      "from typing import List\n",
      "\n",
      "def compute_average(numbers: List[int]) -> float:\n",
      "    return sum(numbers) / len(numbers)\n",
      "\n"
     ]
    }
   ],
   "source": [
    "print(content_context[2][1])\n"
   ]
  },
  {
   "cell_type": "code",
   "execution_count": null,
   "metadata": {},
   "outputs": [],
   "source": []
  }
 ],
 "metadata": {
  "kernelspec": {
   "display_name": ".venv",
   "language": "python",
   "name": "python3"
  },
  "language_info": {
   "codemirror_mode": {
    "name": "ipython",
    "version": 3
   },
   "file_extension": ".py",
   "mimetype": "text/x-python",
   "name": "python",
   "nbconvert_exporter": "python",
   "pygments_lexer": "ipython3",
   "version": "3.12.5"
  }
 },
 "nbformat": 4,
 "nbformat_minor": 2
}
